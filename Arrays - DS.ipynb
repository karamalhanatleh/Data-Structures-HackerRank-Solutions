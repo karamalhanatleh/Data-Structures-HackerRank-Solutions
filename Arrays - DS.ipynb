{
 "cells": [
  {
   "cell_type": "markdown",
   "id": "2b83f36e",
   "metadata": {},
   "source": [
    "# Arrays - DS"
   ]
  },
  {
   "cell_type": "raw",
   "id": "680252b6",
   "metadata": {},
   "source": [
    "An array is a type of data structure that stores elements of the same type in a contiguous block of memory. In an array, , of size , each memory location has some unique index,  (where ), that can be referenced as  or .\n",
    "\n",
    "Reverse an array of integers.\n",
    "\n",
    "Note: If you've already solved our C++ domain's Arrays Introduction challenge, you may want to skip this.\n",
    "\n",
    "Example\n",
    "\n",
    "Return .\n",
    "\n",
    "Function Description\n",
    "\n",
    "Complete the function reverseArray in the editor below.\n",
    "\n",
    "reverseArray has the following parameter(s):\n",
    "\n",
    "int A[n]: the array to reverse\n",
    "Returns\n",
    "\n",
    "int[n]: the reversed array\n",
    "Input Format\n",
    "\n",
    "The first line contains an integer, , the number of integers in .\n",
    "The second line contains  space-separated integers that make up .\n",
    "\n",
    "Sample Input 1\n",
    "4\n",
    "1 4 3 2\n",
    "\n",
    "Sample Output 1\n",
    "\n",
    "2 3 4 1\n"
   ]
  },
  {
   "cell_type": "code",
   "execution_count": 6,
   "id": "7af0ad50",
   "metadata": {},
   "outputs": [],
   "source": [
    "#import paskages \n",
    "\n",
    "import math\n",
    "import os\n",
    "import random\n",
    "import re\n",
    "import sys"
   ]
  },
  {
   "cell_type": "code",
   "execution_count": 7,
   "id": "74f46739",
   "metadata": {},
   "outputs": [],
   "source": [
    "\n",
    "def reverseArray(a):\n",
    "    return a[::-1]"
   ]
  },
  {
   "cell_type": "code",
   "execution_count": 11,
   "id": "b6f80f27",
   "metadata": {},
   "outputs": [
    {
     "name": "stdout",
     "output_type": "stream",
     "text": [
      "4\n",
      "10 9 5 20\n",
      "20 5 9 10\n"
     ]
    }
   ],
   "source": [
    "if __name__ == '__main__':\n",
    "    # Change fptr to print to console instead\n",
    "    arr_count = int(input().strip())\n",
    "    arr = list(map(int, input().rstrip().split()))\n",
    "\n",
    "    res = reverseArray(arr)\n",
    "    \n",
    "    # Print  result \n",
    "    print(' '.join(map(str, res)))"
   ]
  }
 ],
 "metadata": {
  "kernelspec": {
   "display_name": "Python 3 (ipykernel)",
   "language": "python",
   "name": "python3"
  },
  "language_info": {
   "codemirror_mode": {
    "name": "ipython",
    "version": 3
   },
   "file_extension": ".py",
   "mimetype": "text/x-python",
   "name": "python",
   "nbconvert_exporter": "python",
   "pygments_lexer": "ipython3",
   "version": "3.9.13"
  }
 },
 "nbformat": 4,
 "nbformat_minor": 5
}
