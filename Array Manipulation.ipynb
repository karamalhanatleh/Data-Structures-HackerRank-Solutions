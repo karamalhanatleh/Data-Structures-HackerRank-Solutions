{
 "cells": [
  {
   "cell_type": "markdown",
   "id": "9071d7af",
   "metadata": {},
   "source": [
    "# Array Manipulation"
   ]
  },
  {
   "cell_type": "raw",
   "id": "ba68ad44",
   "metadata": {},
   "source": [
    "Starting with a 1-indexed array of zeros and a list of operations, for each operation add a value to each the array element between two given indices, inclusive. Once all operations have been performed, return the maximum value in the array.\n",
    "\n",
    "Example\n",
    "\n",
    "\n",
    "Queries are interpreted as follows:\n",
    "\n",
    "    a b k\n",
    "    1 5 3\n",
    "    4 8 7\n",
    "    6 9 1\n",
    "Add the values of  between the indices  and  inclusive:\n",
    "\n",
    "index->\t 1 2 3  4  5 6 7 8 9 10\n",
    "\t[0,0,0, 0, 0,0,0,0,0, 0]\n",
    "\t[3,3,3, 3, 3,0,0,0,0, 0]\n",
    "\t[3,3,3,10,10,7,7,7,0, 0]\n",
    "\t[3,3,3,10,10,8,8,8,1, 0]\n",
    "The largest value is  after all operations are performed.\n",
    "\n",
    "Function Description\n",
    "\n",
    "Complete the function arrayManipulation in the editor below.\n",
    "\n",
    "arrayManipulation has the following parameters:\n",
    "\n",
    "int n - the number of elements in the array\n",
    "int queries[q][3] - a two dimensional array of queries where each queries[i] contains three integers, a, b, and k.\n",
    "Returns\n",
    "\n",
    "int - the maximum value in the resultant array\n",
    "Input Format\n",
    "\n",
    "The first line contains two space-separated integers  and , the size of the array and the number of operations.\n",
    "Each of the next  lines contains three space-separated integers ,  and , the left index, right index and summand.\n",
    "\n",
    "Constraints\n",
    "\n",
    "Sample Input\n",
    "\n",
    "5 3\n",
    "1 2 100\n",
    "2 5 100\n",
    "3 4 100\n",
    "Sample Output\n",
    "\n",
    "200\n",
    "Explanation\n",
    "\n",
    "After the first update the list is 100 100 0 0 0.\n",
    "After the second update list is 100 200 100 100 100.\n",
    "After the third update list is 100 200 200 200 100.\n",
    "\n",
    "The maximum value is ."
   ]
  },
  {
   "cell_type": "code",
   "execution_count": 7,
   "id": "d9d5be12",
   "metadata": {},
   "outputs": [
    {
     "name": "stdout",
     "output_type": "stream",
     "text": [
      "5 3\n",
      "1 2 100\n",
      "2 5 100\n",
      "3 4 100\n",
      "200\n"
     ]
    }
   ],
   "source": [
    "#!/bin/python3\n",
    "\n",
    "import math\n",
    "import random\n",
    "import re\n",
    "import sys\n",
    "\n",
    "# Function to perform the array manipulation\n",
    "def arrayManipulation(n, queries):\n",
    "    # Initialize the array with zeros\n",
    "    arr = [0] * (n + 1)\n",
    "    \n",
    "    # Apply the difference array logic\n",
    "    for a, b, k in queries:\n",
    "        arr[a - 1] += k  # Increment the start index\n",
    "        arr[b] -= k      # Decrement just after the end index\n",
    "    \n",
    "    # Calculate the maximum value after applying all operations\n",
    "    max_value = 0\n",
    "    current_sum = 0\n",
    "    for val in arr:\n",
    "        current_sum += val\n",
    "        max_value = max(max_value, current_sum)\n",
    "    \n",
    "    return max_value\n",
    "\n",
    "# Main block to accept inputs and run the function\n",
    "if __name__ == '__main__':\n",
    "    # Read first line of inputs\n",
    "    first_multiple_input = input().rstrip().split()\n",
    "    n = int(first_multiple_input[0])\n",
    "    m = int(first_multiple_input[1])\n",
    "\n",
    "    # Read each query and store in a list\n",
    "    queries = []\n",
    "    for _ in range(m):\n",
    "        queries.append(list(map(int, input().rstrip().split())))\n",
    "\n",
    "    # Call the function and print the result\n",
    "    result = arrayManipulation(n, queries)\n",
    "    print(result)\n"
   ]
  },
  {
   "cell_type": "code",
   "execution_count": null,
   "id": "d9136360",
   "metadata": {},
   "outputs": [],
   "source": []
  },
  {
   "cell_type": "code",
   "execution_count": null,
   "id": "fe5cdbf3",
   "metadata": {},
   "outputs": [],
   "source": []
  },
  {
   "cell_type": "code",
   "execution_count": null,
   "id": "f0612e8a",
   "metadata": {},
   "outputs": [],
   "source": []
  },
  {
   "cell_type": "code",
   "execution_count": null,
   "id": "c4a3d78d",
   "metadata": {},
   "outputs": [],
   "source": []
  }
 ],
 "metadata": {
  "kernelspec": {
   "display_name": "Python 3 (ipykernel)",
   "language": "python",
   "name": "python3"
  },
  "language_info": {
   "codemirror_mode": {
    "name": "ipython",
    "version": 3
   },
   "file_extension": ".py",
   "mimetype": "text/x-python",
   "name": "python",
   "nbconvert_exporter": "python",
   "pygments_lexer": "ipython3",
   "version": "3.9.13"
  }
 },
 "nbformat": 4,
 "nbformat_minor": 5
}
