{
 "cells": [
  {
   "cell_type": "raw",
   "id": "9241ea24",
   "metadata": {},
   "source": [
    "A left rotation operation on an array of size  shifts each of the array's elements  unit to the left. Given an integer, , rotate the array that many steps left and return the result.\n",
    "\n",
    "Example\n",
    "\n",
    "\n",
    "After  rotations, .\n",
    "\n",
    "Function Description\n",
    "\n",
    "Complete the rotateLeft function in the editor below.\n",
    "\n",
    "rotateLeft has the following parameters:\n",
    "\n",
    "int d: the amount to rotate by\n",
    "int arr[n]: the array to rotate\n",
    "Returns\n",
    "\n",
    "int[n]: the rotated array\n",
    "Input Format\n",
    "\n",
    "The first line contains two space-separated integers that denote , the number of integers, and , the number of left rotations to perform.\n",
    "The second line contains  space-separated integers that describe .\n",
    "\n",
    "Constraints\n",
    "\n",
    "Sample Input\n",
    "\n",
    "5 4\n",
    "1 2 3 4 5\n",
    "Sample Output\n",
    "\n",
    "5 1 2 3 4\n",
    "Explanation\n",
    "\n",
    "To perform  left rotations, the array undergoes the following sequence of changes:\n",
    "\n"
   ]
  },
  {
   "cell_type": "code",
   "execution_count": 54,
   "id": "2de69853",
   "metadata": {},
   "outputs": [
    {
     "name": "stdout",
     "output_type": "stream",
     "text": [
      "5 4\n",
      "1 2 3 4 5\n",
      "5 1 2 3 4\n"
     ]
    }
   ],
   "source": [
    "#!/bin/python3\n",
    "\n",
    "def rotateLeft(d, arr):\n",
    "    # Rotate the array to the left by d positions\n",
    "    for i in range(d):\n",
    "        # Remove the first element and append it to the end\n",
    "        e = arr[0]\n",
    "        arr.remove(e)\n",
    "        arr.append(e)\n",
    "    return arr\n",
    "\n",
    "if __name__ == '__main__':\n",
    "    # Read input values\n",
    "    first_multiple_input = input().rstrip().split()\n",
    "    \n",
    "    # First value is the number of elements in the array\n",
    "    n = int(first_multiple_input[0])\n",
    "    # Second value is the number of rotations\n",
    "    d = int(first_multiple_input[1])\n",
    "    \n",
    "    # Read the array elements\n",
    "    arr = list(map(int, input().rstrip().split()))\n",
    "    \n",
    "    # Call the rotateLeft function\n",
    "    result = rotateLeft(d, arr)\n",
    "    \n",
    "    # Print the result as a space-separated string\n",
    "    print(' '.join(map(str, result)))\n"
   ]
  }
 ],
 "metadata": {
  "kernelspec": {
   "display_name": "Python 3 (ipykernel)",
   "language": "python",
   "name": "python3"
  },
  "language_info": {
   "codemirror_mode": {
    "name": "ipython",
    "version": 3
   },
   "file_extension": ".py",
   "mimetype": "text/x-python",
   "name": "python",
   "nbconvert_exporter": "python",
   "pygments_lexer": "ipython3",
   "version": "3.9.13"
  }
 },
 "nbformat": 4,
 "nbformat_minor": 5
}
