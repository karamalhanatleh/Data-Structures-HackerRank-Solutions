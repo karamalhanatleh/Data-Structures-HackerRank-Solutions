{
 "cells": [
  {
   "cell_type": "markdown",
   "id": "01995c50",
   "metadata": {},
   "source": [
    "# Sparse Arrays"
   ]
  },
  {
   "cell_type": "raw",
   "id": "0b20b2ce",
   "metadata": {},
   "source": [
    "There is a collection of input strings and a collection of query strings. For each query string, determine how many times it occurs in the list of input strings. Return an array of the results.\n",
    "\n",
    "Example\n",
    "\n",
    "\n",
    "\n",
    "There are  instances of '',  of '' and  of ''. For each query, add an element to the return array, .\n",
    "\n",
    "Function Description\n",
    "\n",
    "Complete the function matchingStrings in the editor below. The function must return an array of integers representing the frequency of occurrence of each query string in stringList.\n",
    "\n",
    "matchingStrings has the following parameters:\n",
    "\n",
    "string stringList[n] - an array of strings to search\n",
    "string queries[q] - an array of query strings\n",
    "Returns\n",
    "\n",
    "int[q]: an array of results for each query\n",
    "Input Format\n",
    "\n",
    "The first line contains and integer , the size of .\n",
    "Each of the next  lines contains a string .\n",
    "The next line contains , the size of .\n",
    "Each of the next  lines contains a string .\n",
    "\n",
    "Constraints\n",
    "\n",
    "\n",
    "\n",
    " .\n",
    "\n",
    "Sample Input 1\n",
    "\n",
    "CopyDownload\n",
    "Array: stringList\n",
    "aba\n",
    "baba\n",
    "aba\n",
    "xzxb\n",
    "\n",
    " \n",
    "\n",
    "\n",
    "\n",
    "Array: queries\n",
    "aba\n",
    "xzxb\n",
    "ab\n",
    "\n",
    " \n",
    "4\n",
    "aba\n",
    "baba\n",
    "aba\n",
    "xzxb\n",
    "3\n",
    "aba\n",
    "xzxb\n",
    "ab\n",
    "Sample Output 1\n",
    "\n",
    "2\n",
    "1\n",
    "0"
   ]
  },
  {
   "cell_type": "code",
   "execution_count": null,
   "id": "9f65c054",
   "metadata": {},
   "outputs": [],
   "source": []
  },
  {
   "cell_type": "code",
   "execution_count": 15,
   "id": "fede6e55",
   "metadata": {},
   "outputs": [],
   "source": [
    "def matchingStrings(stringList, queries):\n",
    "    count=[]\n",
    "    for i in range(len(queries)):\n",
    "        if queries[i] in stringList:\n",
    "            count.append(stringList.count(queries[i]))\n",
    "        else:\n",
    "            count.append(stringList.count(queries[i]))\n",
    "    return count"
   ]
  },
  {
   "cell_type": "code",
   "execution_count": 18,
   "id": "19e0828c",
   "metadata": {},
   "outputs": [],
   "source": [
    "stringList=['ab','ab','abc']\n",
    "q=['ab','abc','bc']"
   ]
  },
  {
   "cell_type": "code",
   "execution_count": 19,
   "id": "60fd51fc",
   "metadata": {},
   "outputs": [
    {
     "data": {
      "text/plain": [
       "[2, 1, 0]"
      ]
     },
     "execution_count": 19,
     "metadata": {},
     "output_type": "execute_result"
    }
   ],
   "source": [
    "matchingStrings(stringList,q)"
   ]
  },
  {
   "cell_type": "code",
   "execution_count": null,
   "id": "fc47ef5a",
   "metadata": {},
   "outputs": [],
   "source": []
  }
 ],
 "metadata": {
  "kernelspec": {
   "display_name": "Python 3 (ipykernel)",
   "language": "python",
   "name": "python3"
  },
  "language_info": {
   "codemirror_mode": {
    "name": "ipython",
    "version": 3
   },
   "file_extension": ".py",
   "mimetype": "text/x-python",
   "name": "python",
   "nbconvert_exporter": "python",
   "pygments_lexer": "ipython3",
   "version": "3.9.13"
  }
 },
 "nbformat": 4,
 "nbformat_minor": 5
}
